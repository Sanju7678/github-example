{
    "cells": [
        {
            "metadata": {
                "collapsed": true
            },
            "cell_type": "markdown",
            "source": "<h1>My Jupyter Notebook on IBM Watson Studio</h1>"
        },
        {
            "metadata": {},
            "cell_type": "markdown",
            "source": "<b>Sanju</b>"
        },
        {
            "metadata": {},
            "cell_type": "markdown",
            "source": "100% Human"
        },
        {
            "metadata": {},
            "cell_type": "markdown",
            "source": "<i>I am interested in data science because I love to gain insights from data</i>"
        },
        {
            "metadata": {},
            "cell_type": "markdown",
            "source": "<h3>The following code tests the Gauss formula</h3>"
        },
        {
            "metadata": {},
            "cell_type": "code",
            "source": "def gauss(n):\n    return (n*(n+1))/2\n\ngauss(100) == sum(range(101))",
            "execution_count": 1,
            "outputs": [
                {
                    "output_type": "execute_result",
                    "execution_count": 1,
                    "data": {
                        "text/plain": "True"
                    },
                    "metadata": {}
                }
            ]
        },
        {
            "metadata": {},
            "cell_type": "markdown",
            "source": "<br><br><hr>\n<ul>\n    <li>one</li>\n    <li>two</li>\n    <li>three</li>\n    <li>four</li>\n    <li>five</li>\n    <li>six</li>\n </ul>   "
        },
        {
            "metadata": {},
            "cell_type": "markdown",
            "source": "<table align=\"right\">\n    <tr>\n        <th>Markdown</th>\n        <th>Less</th>\n        <th>Pretty</th>\n    </tr>\n    <tr>\n        <td>Still</td>\n        <td>Renders</td>\n        <td>Nicely</td>\n    </tr>\n    <tr>\n        <td>1</td>\n        <td>2</td>\n        <td>3</td>\n    </tr>\n </table>   "
        },
        {
            "metadata": {},
            "cell_type": "code",
            "source": "",
            "execution_count": null,
            "outputs": []
        }
    ],
    "metadata": {
        "kernelspec": {
            "name": "python3",
            "display_name": "Python 3.6",
            "language": "python"
        },
        "language_info": {
            "name": "python",
            "version": "3.6.9",
            "mimetype": "text/x-python",
            "codemirror_mode": {
                "name": "ipython",
                "version": 3
            },
            "pygments_lexer": "ipython3",
            "nbconvert_exporter": "python",
            "file_extension": ".py"
        }
    },
    "nbformat": 4,
    "nbformat_minor": 1
}